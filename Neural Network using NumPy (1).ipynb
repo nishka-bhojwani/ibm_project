{
 "cells": [
  {
   "cell_type": "code",
   "execution_count": 41,
   "id": "f9f070e4",
   "metadata": {},
   "outputs": [],
   "source": [
    "#data set \n",
    "\n",
    "a = [0,0,1,1,0,0,\n",
    "     0,1,0,0,1,0,\n",
    "     1,1,1,1,1,1,\n",
    "     1,0,0,0,0,1,\n",
    "     1,0,0,0,0,1\n",
    "     ]\n",
    "\n",
    "b = [0,1,1,1,1,0,\n",
    "     0,1,0,0,1,0,\n",
    "     0,1,1,1,1,0,\n",
    "     0,1,0,0,1,0,\n",
    "     0,1,1,1,1,0]\n",
    "\n",
    "c = [0,1,1,1,1,0,\n",
    "     0,1,0,0,0,0,\n",
    "     0,1,0,0,0,0,\n",
    "     0,1,0,0,0,0,\n",
    "     0,1,1,1,1,0\n",
    "     ]\n",
    "\n",
    "#building a 3 letter classifier \n",
    "#ignoring the bias \n",
    "\n"
   ]
  },
  {
   "cell_type": "code",
   "execution_count": 42,
   "id": "1603037c",
   "metadata": {},
   "outputs": [],
   "source": [
    "#creating labels , which is a numpy nd array with diagonal values 1 \n",
    "\n",
    "y = [[1,0,0],\n",
    "     [0,1,0],\n",
    "     [0,0,1]]\n",
    "\n",
    "import numpy as np \n",
    "import matplotlib.pyplot as plt \n",
    "\n"
   ]
  },
  {
   "cell_type": "code",
   "execution_count": 43,
   "id": "23e1543d",
   "metadata": {},
   "outputs": [
    {
     "data": {
      "image/png": "[encoded data removed]",
      "text/plain": [
       "<Figure size 432x288 with 1 Axes>"
      ]
     },
     "metadata": {
      "needs_background": "light"
     },
     "output_type": "display_data"
    }
   ],
   "source": [
    "#visualise the data \n",
    "plt.imshow(np.array(a).reshape(5,6))\n",
    "plt.show()"
   ]
  },
  {
   "cell_type": "code",
   "execution_count": 44,
   "id": "f823e410",
   "metadata": {},
   "outputs": [
    {
     "name": "stdout",
     "output_type": "stream",
     "text": [
      "[array([[0, 0, 1, 1, 0, 0, 0, 1, 0, 0, 1, 0, 1, 1, 1, 1, 1, 1, 1, 0, 0, 0,\n",
      "        0, 1, 1, 0, 0, 0, 0, 1]]), array([[0, 1, 1, 1, 1, 0, 0, 1, 0, 0, 1, 0, 0, 1, 1, 1, 1, 0, 0, 1, 0, 0,\n",
      "        1, 0, 0, 1, 1, 1, 1, 0]]), array([[0, 1, 1, 1, 1, 0, 0, 1, 0, 0, 0, 0, 0, 1, 0, 0, 0, 0, 0, 1, 0, 0,\n",
      "        0, 0, 0, 1, 1, 1, 1, 0]])] \n",
      "\n",
      " [[1 0 0]\n",
      " [0 1 0]\n",
      " [0 0 1]]\n"
     ]
    }
   ],
   "source": [
    "#convert data and labels into numpy array \n",
    "x = [np.array(a).reshape(1,30), np.array(b).reshape(1,30),np.array(c).reshape(1,30)]\n",
    "y = np.array(y)\n",
    "\n",
    "print(x,\"\\n\\n\", y)\n",
    "                                                    "
   ]
  },
  {
   "cell_type": "code",
   "execution_count": 45,
   "id": "6ee34502",
   "metadata": {},
   "outputs": [],
   "source": [
    "#layers --- input (1,30)\n",
    "# hidden layer will have (1,5)\n",
    "#output layer (3,3)\n",
    "\n"
   ]
  },
  {
   "cell_type": "code",
   "execution_count": 46,
   "id": "16920f68",
   "metadata": {},
   "outputs": [],
   "source": [
    "#creating an activation function \n",
    "#defining the sigmoid function \n",
    "def sigmoid(x):\n",
    "    return(1/(1+np.exp(-x)))\n",
    "\n",
    "#creating feed  forward propagation (NN)\n",
    "\n",
    "def f_forward(x,w1,w2):\n",
    "    #hidden layer (linear algorithm to simplify the modeling of the data)\n",
    "    z1 = x.dot(w1)\n",
    "    a1 = sigmoid(z1)\n",
    "    \n",
    "    #ouput layer \n",
    "    z2 = a1.dot(w2)\n",
    "    a2 = sigmoid(z2)\n",
    "    return(a2)\n",
    "\n",
    "\n",
    "\n"
   ]
  },
  {
   "cell_type": "code",
   "execution_count": 47,
   "id": "7367a593",
   "metadata": {},
   "outputs": [],
   "source": [
    "#initialising the weights \n",
    "def generate_wts(x,y):\n",
    "    l = []\n",
    "    for i in range (x*y):\n",
    "        l.append(np.random.randn())\n",
    "    return(np.array(l).reshape(x,y))\n",
    "\n"
   ]
  },
  {
   "cell_type": "code",
   "execution_count": 48,
   "id": "6a2332e1",
   "metadata": {},
   "outputs": [],
   "source": [
    "#creating and checking using loss function \n",
    "\n",
    "def loss(out, Y ):\n",
    "    s = (np.square(out-Y))\n",
    "    s = np.sum(s)/len(y)\n",
    "    return(s)"
   ]
  },
  {
   "cell_type": "code",
   "execution_count": 49,
   "id": "49e378fd",
   "metadata": {},
   "outputs": [],
   "source": [
    "#back propagation \n",
    "def back_prop(x,y,w1,w2,alpha):\n",
    "    \n",
    "    #hidden layer \n",
    "    z1 = x.dot(w1)\n",
    "    a1 = sigmoid(z1)\n",
    "    \n",
    "    #output layer \n",
    "    z2 = a1.dot(w2)\n",
    "    a2 = sigmoid(z2)\n",
    "    \n",
    "    d2 = (a2 - y)\n",
    "    d1 = np.multiply((w2.dot((d2.transpose()))).transpose(),np.multiply(a1,1-a1))\n",
    "    \n",
    "    #gradient \n",
    "    \n",
    "    w1_adj = x.transpose().dot(d1)\n",
    "    w2_adj = a1.transpose().dot(d2)\n",
    "    \n",
    "    w1=w1 - (alpha*(w1_adj))\n",
    "    w2=w2 - (alpha*(w2_adj))\n",
    "    \n",
    "    return(w1,w2)\n",
    "    "
   ]
  },
  {
   "cell_type": "code",
   "execution_count": 29,
   "id": "4d25e5ee",
   "metadata": {},
   "outputs": [],
   "source": [
    "#training the dataset \n",
    "#alpha is used to \n",
    "def train(x,Y,w1,w2,alpha = 0.01 , epoch = 10):\n",
    "    acc = []\n",
    "    loss_list = []\n",
    "    for j in range(epoch):\n",
    "        l = []\n",
    "        for i in range(len(x)):\n",
    "            out = f_forward(x[i], w1 ,w2)\n",
    "            l.append((loss(out,Y[i])))\n",
    "            w1 , w2 = back_prop(x[i],y[i],w1,w2,alpha)\n",
    "        print(\"Epochs: \" , j+1 , \"acc:\" , (1-(sum(l)/len(x)))*100)\n",
    "        acc.append((1-(sum(l)/len(x)))*100)\n",
    "        loss_list.append((sum(l))/len(x))\n",
    "    return (acc, loss_list , w1, w2)\n",
    "            "
   ]
  },
  {
   "cell_type": "code",
   "execution_count": 57,
   "id": "b7b42d1f",
   "metadata": {},
   "outputs": [],
   "source": [
    "#defining the function to predict the values \n",
    "def predict(x, w1, w2):\n",
    "    Out = f_forward(x, w1, w2)\n",
    "    k = np.argmax(Out[0])\n",
    "    \n",
    "    if k == 0:\n",
    "        print(\"Image is of letter A\")\n",
    "    elif k == 1:\n",
    "        print(\"Image is of letter B\")\n",
    "    else:\n",
    "        print(\"Image is of letter C\")\n",
    "    \n",
    "    plt.imshow(x.reshape(5, 6))\n",
    "    plt.show()"
   ]
  },
  {
   "cell_type": "code",
   "execution_count": 51,
   "id": "4a00c079",
   "metadata": {},
   "outputs": [
    {
     "name": "stdout",
     "output_type": "stream",
     "text": [
      "[[-0.2112463   0.72676706  0.30866426  0.07397116 -0.38564311]\n",
      " [-1.06297467  0.49546603  1.07671924  0.40886413 -1.70638803]\n",
      " [ 0.23273247 -1.66320205 -0.36321518 -0.08321586 -1.31974442]\n",
      " [-1.18100874 -0.39961019  0.0399851   0.14210084  2.19409013]\n",
      " [-1.10072909 -0.95403718 -2.11634233 -0.3590858  -0.49157601]\n",
      " [ 0.28226012  0.68223331 -0.88987243 -0.76636956  0.19747755]\n",
      " [-1.57118098 -1.12163495  1.23452336 -0.6049073   1.23070439]\n",
      " [-2.04301664 -0.03645477 -1.17588786  1.00097198  0.12956527]\n",
      " [-0.23356995  1.02764586 -1.33964597 -1.03454141 -1.79932199]\n",
      " [ 0.49790238  1.38466931  0.07779252  0.35224123  0.80650708]\n",
      " [ 0.21495706 -0.76613727 -0.72024743 -0.26879604  0.24143421]\n",
      " [ 1.00929891  1.01125314  0.724459    0.29786109 -0.69114789]\n",
      " [-1.13680161 -1.15394308  1.69045179 -0.85842933  1.58597168]\n",
      " [-0.66062942 -0.15411008 -0.86987642  1.20146987  1.26572716]\n",
      " [ 0.25162874  0.8684238   1.03173013 -0.04781667  0.65051503]\n",
      " [ 1.2984124   0.08280737  0.40507073 -0.01080828 -0.37225525]\n",
      " [-0.30431297 -0.25963553  1.65253361 -1.78660714 -0.37995467]\n",
      " [-0.66436078  0.8263242  -0.23215961  2.09069204 -0.69341848]\n",
      " [-1.6994785   0.06003527 -1.19010321 -0.3501185  -0.15607395]\n",
      " [ 1.43417787  0.70357757  0.19568014  0.76635572 -0.44130952]\n",
      " [ 0.25547309 -1.13088511 -2.45690043 -1.78896088  1.00771043]\n",
      " [-0.04196514 -0.35073955  0.47303062  0.52961012 -0.64741101]\n",
      " [ 1.03386394 -0.04267822 -1.08550304 -1.28507496  0.64381328]\n",
      " [-0.5777849   0.88390971  0.2398373  -1.04646289 -2.72008164]\n",
      " [-0.64022032 -0.64287584  1.56139906 -0.74796898 -2.20918582]\n",
      " [-0.47386614  1.13103175  0.87124412  0.08167103  0.38849732]\n",
      " [-0.25973097  0.08935371  1.26494106 -1.70215212 -0.43639705]\n",
      " [-0.05089897 -0.87040743 -1.4249769  -0.42237075 -0.10825238]\n",
      " [ 1.06865932  0.155431    0.26356544 -0.14580683 -1.24796627]\n",
      " [ 1.28707528 -0.02601452 -1.17153315  1.00217052 -0.56294708]] \n",
      " [[-0.11563116 -0.49718601  0.57368967]\n",
      " [ 0.31254704  0.80797288  1.38926353]\n",
      " [ 0.64305699  0.05868812  0.28161012]\n",
      " [-0.42119849 -0.83411028  1.38303893]\n",
      " [-0.1724416   0.14636716  0.15603964]]\n"
     ]
    }
   ],
   "source": [
    "w1 = generate_wts(30,5)\n",
    "w2 = generate_wts(5,3)\n",
    "print(w1,\"\\n\", w2)\n",
    "\n"
   ]
  },
  {
   "cell_type": "code",
   "execution_count": 52,
   "id": "102ac6e3",
   "metadata": {},
   "outputs": [
    {
     "name": "stdout",
     "output_type": "stream",
     "text": [
      "Epochs:  1 acc: 74.8668803566707\n",
      "Epochs:  2 acc: 74.98295594674205\n",
      "Epochs:  3 acc: 75.09677205008678\n",
      "Epochs:  4 acc: 75.20840247734986\n",
      "Epochs:  5 acc: 75.31791720880346\n",
      "Epochs:  6 acc: 75.4253828089333\n",
      "Epochs:  7 acc: 75.53086279660494\n",
      "Epochs:  8 acc: 75.63441797341157\n",
      "Epochs:  9 acc: 75.73610671297385\n",
      "Epochs:  10 acc: 75.8359852140718\n",
      "Epochs:  11 acc: 75.93410772054565\n",
      "Epochs:  12 acc: 76.03052671091102\n",
      "Epochs:  13 acc: 76.12529306059966\n",
      "Epochs:  14 acc: 76.21845617966503\n",
      "Epochs:  15 acc: 76.31006412868841\n",
      "Epochs:  16 acc: 76.40016371549059\n",
      "Epochs:  17 acc: 76.48880057510384\n",
      "Epochs:  18 acc: 76.5760192352911\n",
      "Epochs:  19 acc: 76.66186316972295\n",
      "Epochs:  20 acc: 76.74637484073912\n",
      "Epochs:  21 acc: 76.82959573343675\n",
      "Epochs:  22 acc: 76.91156638264489\n",
      "Epochs:  23 acc: 76.99232639416628\n",
      "Epochs:  24 acc: 77.07191446149763\n",
      "Epochs:  25 acc: 77.15036837907856\n",
      "Epochs:  26 acc: 77.22772505296923\n",
      "Epochs:  27 acc: 77.30402050971868\n",
      "Epochs:  28 acc: 77.37928990406036\n",
      "Epochs:  29 acc: 77.4535675259573\n",
      "Epochs:  30 acc: 77.52688680741973\n",
      "Epochs:  31 acc: 77.59928032942783\n",
      "Epochs:  32 acc: 77.67077982921585\n",
      "Epochs:  33 acc: 77.74141620810651\n",
      "Epochs:  34 acc: 77.8112195400283\n",
      "Epochs:  35 acc: 77.88021908079993\n",
      "Epochs:  36 acc: 77.94844327822742\n",
      "Epochs:  37 acc: 78.01591978302623\n",
      "Epochs:  38 acc: 78.08267546055583\n",
      "Epochs:  39 acc: 78.14873640333285\n",
      "Epochs:  40 acc: 78.21412794427492\n",
      "Epochs:  41 acc: 78.27887467061502\n",
      "Epochs:  42 acc: 78.34300043841895\n",
      "Epochs:  43 acc: 78.4065283876338\n",
      "Epochs:  44 acc: 78.46948095759299\n",
      "Epochs:  45 acc: 78.53187990290273\n",
      "Epochs:  46 acc: 78.59374630963643\n",
      "Epochs:  47 acc: 78.65510061176548\n",
      "Epochs:  48 acc: 78.7159626077584\n",
      "Epochs:  49 acc: 78.77635147728445\n",
      "Epochs:  50 acc: 78.83628579796135\n",
      "Epochs:  51 acc: 78.8957835620928\n",
      "Epochs:  52 acc: 78.95486219334481\n",
      "Epochs:  53 acc: 79.01353856331579\n",
      "Epochs:  54 acc: 79.07182900795944\n",
      "Epochs:  55 acc: 79.12974934382422\n",
      "Epochs:  56 acc: 79.18731488407778\n",
      "Epochs:  57 acc: 79.24454045428828\n",
      "Epochs:  58 acc: 79.3014404079393\n",
      "Epochs:  59 acc: 79.35802864165754\n",
      "Epochs:  60 acc: 79.41431861013689\n",
      "Epochs:  61 acc: 79.47032334074446\n",
      "Epochs:  62 acc: 79.52605544779755\n",
      "Epochs:  63 acc: 79.58152714650282\n",
      "Epochs:  64 acc: 79.63675026655059\n",
      "Epochs:  65 acc: 79.69173626536003\n",
      "Epochs:  66 acc: 79.74649624097145\n",
      "Epochs:  67 acc: 79.80104094458454\n",
      "Epochs:  68 acc: 79.85538079274157\n",
      "Epochs:  69 acc: 79.90952587915633\n",
      "Epochs:  70 acc: 79.96348598618985\n",
      "Epochs:  71 acc: 80.01727059597496\n",
      "Epochs:  72 acc: 80.07088890119228\n",
      "Epochs:  73 acc: 80.1243498155\n",
      "Epochs:  74 acc: 80.17766198362125\n",
      "Epochs:  75 acc: 80.23083379109158\n",
      "Epochs:  76 acc: 80.28387337367023\n",
      "Epochs:  77 acc: 80.33678862641848\n",
      "Epochs:  78 acc: 80.38958721244799\n",
      "Epochs:  79 acc: 80.44227657134242\n",
      "Epochs:  80 acc: 80.494863927255\n",
      "Epochs:  81 acc: 80.54735629668464\n",
      "Epochs:  82 acc: 80.599760495933\n",
      "Epochs:  83 acc: 80.65208314824433\n",
      "Epochs:  84 acc: 80.70433069063021\n",
      "Epochs:  85 acc: 80.75650938038002\n",
      "Epochs:  86 acc: 80.80862530125881\n",
      "Epochs:  87 acc: 80.86068436939303\n",
      "Epochs:  88 acc: 80.91269233884476\n",
      "Epochs:  89 acc: 80.96465480687468\n",
      "Epochs:  90 acc: 81.01657721889366\n",
      "Epochs:  91 acc: 81.06846487310305\n",
      "Epochs:  92 acc: 81.12032292482289\n",
      "Epochs:  93 acc: 81.17215639050771\n",
      "Epochs:  94 acc: 81.22397015144936\n",
      "Epochs:  95 acc: 81.27576895716595\n",
      "Epochs:  96 acc: 81.32755742847625\n",
      "Epochs:  97 acc: 81.37934006025918\n",
      "Epochs:  98 acc: 81.43112122389738\n",
      "Epochs:  99 acc: 81.48290516940494\n",
      "Epochs:  100 acc: 81.53469602723895\n"
     ]
    }
   ],
   "source": [
    "#getting the accuracy the loss and the weights after training \n",
    "acc, loss_list, w1 , w2 = train(x,y,w1,w2,0.01 ,100)\n"
   ]
  },
  {
   "cell_type": "code",
   "execution_count": 53,
   "id": "3ea9bccb",
   "metadata": {},
   "outputs": [
    {
     "data": {
      "image/png": "[encoded data removed]",
      "text/plain": [
       "<Figure size 432x288 with 1 Axes>"
      ]
     },
     "metadata": {
      "needs_background": "light"
     },
     "output_type": "display_data"
    }
   ],
   "source": [
    "import matplotlib.pyplot as plt1\n",
    "\n",
    "plt.plot(acc)\n",
    "plt.ylabel(\"Accuracy\")\n",
    "plt.xlabel(\"Epochs\")\n",
    "plt.show()"
   ]
  },
  {
   "cell_type": "code",
   "execution_count": 54,
   "id": "622ce206-22cb-4de1-93c8-5f3602090634",
   "metadata": {},
   "outputs": [
    {
     "data": {
      "image/png": "[encoded data removed]",
      "text/plain": [
       "<Figure size 432x288 with 1 Axes>"
      ]
     },
     "metadata": {
      "needs_background": "light"
     },
     "output_type": "display_data"
    }
   ],
   "source": [
    "plt.plot(loss_list)\n",
    "plt.ylabel(\"Loss\")\n",
    "plt.xlabel(\"Epochs\")\n",
    "plt.show()"
   ]
  },
  {
   "cell_type": "code",
   "execution_count": 55,
   "id": "8c8c10fb",
   "metadata": {},
   "outputs": [
    {
     "name": "stdout",
     "output_type": "stream",
     "text": [
      "[[-0.2112463   0.72676706  0.30866426  0.07397116 -0.38564311]\n",
      " [-1.10761415  0.44427473  0.996414    0.50870559 -1.65754976]\n",
      " [ 0.18750308 -1.7641124  -0.3814704  -0.11232388 -1.28876935]\n",
      " [-1.22623813 -0.50052054  0.02172988  0.11299281  2.2250652 ]\n",
      " [-1.14536856 -1.00522849 -2.19664758 -0.25924434 -0.44273774]\n",
      " [ 0.28226012  0.68223331 -0.88987243 -0.76636956  0.19747755]\n",
      " [-1.57118098 -1.12163495  1.23452336 -0.6049073   1.23070439]\n",
      " [-2.08824603 -0.13736512 -1.19414308  0.97186395  0.16054034]\n",
      " [-0.23356995  1.02764586 -1.33964597 -1.03454141 -1.79932199]\n",
      " [ 0.49790238  1.38466931  0.07779252  0.35224123  0.80650708]\n",
      " [ 0.16542118 -0.85931973 -0.72074117 -0.4566794   0.26363855]\n",
      " [ 1.00929891  1.01125314  0.724459    0.29786109 -0.69114789]\n",
      " [-1.13739152 -1.20366213  1.75250181 -0.98737882  1.56810848]\n",
      " [-0.7058588  -0.25502043 -0.88813164  1.17236184  1.29670223]\n",
      " [ 0.20209286  0.77524134  1.03123639 -0.23570003  0.67271936]\n",
      " [ 1.24887652 -0.01037509  0.40457699 -0.19869164 -0.35005091]\n",
      " [-0.35384885 -0.35281799  1.65203987 -1.97449051 -0.35775034]\n",
      " [-0.66495069  0.77660515 -0.17010959  1.96174256 -0.71128167]\n",
      " [-1.70006841  0.01031623 -1.12805319 -0.47906799 -0.17393714]\n",
      " [ 1.3895384   0.65238627  0.1153749   0.86619718 -0.39247125]\n",
      " [ 0.25547309 -1.13088511 -2.45690043 -1.78896088  1.00771043]\n",
      " [-0.04196514 -0.35073955  0.47303062  0.52961012 -0.64741101]\n",
      " [ 0.98491797 -0.08614163 -1.1480468  -1.34400885  0.68388081]\n",
      " [-0.57837481  0.83419066  0.30188732 -1.17541238 -2.73794484]\n",
      " [-0.64081022 -0.69259489  1.62344908 -0.87691846 -2.22704902]\n",
      " [-0.51850562  1.07984044  0.79093887  0.18151249  0.43733559]\n",
      " [-0.30437045  0.0381624   1.18463582 -1.60231067 -0.38755878]\n",
      " [-0.09553845 -0.92159874 -1.50528214 -0.32252929 -0.05941411]\n",
      " [ 1.02401985  0.1042397   0.18326019 -0.04596537 -1.199128  ]\n",
      " [ 1.28648537 -0.07573357 -1.10948312  0.87322103 -0.58081028]] \n",
      " [[-0.18017074 -0.44347561  0.50631745]\n",
      " [ 0.23457223  0.7905165   1.33441543]\n",
      " [ 0.81042537 -0.16842699 -0.25785396]\n",
      " [-0.62613948 -1.1983138   1.31487845]\n",
      " [-0.36506873  0.20969482 -0.03819926]]\n"
     ]
    }
   ],
   "source": [
    "print(w1, '\\n' , w2)\n"
   ]
  },
  {
   "cell_type": "code",
   "execution_count": 60,
   "id": "dc785e1f",
   "metadata": {},
   "outputs": [
    {
     "name": "stdout",
     "output_type": "stream",
     "text": [
      "Image is of letter C\n"
     ]
    },
    {
     "data": {
      "image/png": "[encoded data removed]",
      "text/plain": [
       "<Figure size 432x288 with 1 Axes>"
      ]
     },
     "metadata": {
      "needs_background": "light"
     },
     "output_type": "display_data"
    }
   ],
   "source": [
    "predict(x[2],w1,w2)"
   ]
  },
  {
   "cell_type": "code",
   "execution_count": null,
   "id": "0a566235",
   "metadata": {},
   "outputs": [],
   "source": []
  }
 ],
 "metadata": {
  "kernelspec": {
   "display_name": "Python 3",
   "language": "python",
   "name": "python3"
  },
  "language_info": {
   "codemirror_mode": {
    "name": "ipython",
    "version": 3
   },
   "file_extension": ".py",
   "mimetype": "text/x-python",
   "name": "python",
   "nbconvert_exporter": "python",
   "pygments_lexer": "ipython3",
   "version": "3.8.8"
  }
 },
 "nbformat": 4,
 "nbformat_minor": 5
}
